{
  "cells": [
    {
      "cell_type": "code",
      "execution_count": null,
      "metadata": {
        "id": "kn9P_gT6WURc"
      },
      "outputs": [],
      "source": [
        "import os\n",
        "import torch\n",
        "from torch import nn as nn\n",
        "from torch.utils.data import Dataset, DataLoader\n",
        "\n",
        "from scipy.io.wavfile import read\n",
        "\n",
        "import numpy as np\n",
        "\n",
        "import math"
      ]
    },
    {
      "cell_type": "code",
      "execution_count": null,
      "metadata": {
        "id": "grF4ks3YW_kT"
      },
      "outputs": [],
      "source": [
        "device = (\n",
        "    \"cuda\"\n",
        "    if torch.cuda.is_available()\n",
        "    else \"mps\"\n",
        "    if torch.backends.mps.is_available()\n",
        "    else \"cpu\"\n",
        ")"
      ]
    },
    {
      "cell_type": "code",
      "execution_count": null,
      "metadata": {
        "id": "3yLLRdH1WXfR"
      },
      "outputs": [],
      "source": [
        "class CustomAudioDataset(Dataset):\n",
        "    def __init__(self, audio_dir, transform=None, target_transform=None):\n",
        "        self.audio_classes = [\"up\", \"down\", \"left\", \"right\"]\n",
        "        self.audio_dir = audio_dir\n",
        "        self.transform = transform\n",
        "        self.target_transform = target_transform\n",
        "        self.file_paths = []\n",
        "        self.labels = []\n",
        "\n",
        "        # Gather files for the speech commands\n",
        "        for class_idx, class_name in enumerate(self.audio_classes):\n",
        "            class_dir = os.path.join(audio_dir, class_name)\n",
        "            for file_name in os.listdir(class_dir):\n",
        "                if file_name.endswith('.wav'):\n",
        "                    file_path = os.path.join(class_dir, file_name)\n",
        "                    rate, data = read(file_path)\n",
        "                    audio_tensor = torch.tensor(data, dtype=torch.float32)\n",
        "                    stft_result = torch.stft(\n",
        "                        audio_tensor,\n",
        "                        n_fft=256,\n",
        "                        hop_length=256 // 8,\n",
        "                        win_length=256,\n",
        "                        window=torch.hann_window(256),\n",
        "                        return_complex=True\n",
        "                    )\n",
        "                    if stft_result.shape == (129, 501):\n",
        "                        self.file_paths.append(file_path)\n",
        "                        self.labels.append(class_idx)\n",
        "\n",
        "    def __len__(self):\n",
        "        return len(self.file_paths)\n",
        "\n",
        "    def __getitem__(self, idx):\n",
        "        file_path = self.file_paths[idx]\n",
        "        label = self.labels[idx]\n",
        "        rate, data = read(file_path)\n",
        "        audio = torch.tensor(data, dtype=torch.float32)\n",
        "\n",
        "        audio = torch.stft(\n",
        "            audio,\n",
        "            n_fft=256,\n",
        "            hop_length=256 // 8,\n",
        "            win_length=256,\n",
        "            window=torch.hann_window(256),\n",
        "            return_complex=True\n",
        "        ).abs() ** 2\n",
        "\n",
        "        if self.transform:\n",
        "            audio = self.transform(audio)\n",
        "        if self.target_transform:\n",
        "            label = self.target_transform(label)\n",
        "\n",
        "        return audio, label"
      ]
    },
    {
      "cell_type": "code",
      "execution_count": null,
      "metadata": {
        "id": "cCoGwa7oh2Og"
      },
      "outputs": [],
      "source": [
        "def collate_gpu(batch):\n",
        "    x, t = torch.utils.data.default_collate(batch)\n",
        "    return x.to(device=device), t.to(device=device)"
      ]
    },
    {
      "cell_type": "code",
      "execution_count": null,
      "metadata": {
        "id": "AcHKBGnjWZTa"
      },
      "outputs": [],
      "source": [
        "audio_dir = '/kaggle/input/train-commands/commands/'\n",
        "dataset = CustomAudioDataset(audio_dir=audio_dir)\n",
        "\n",
        "train_dataloader = DataLoader(dataset, batch_size=64, shuffle=True, collate_fn=collate_gpu)\n",
        "\n",
        "for batch_idx, (data, labels) in enumerate(train_dataloader):\n",
        "    print(f\"Batch {batch_idx+1}\")\n",
        "    print(f\"Waveform shape: {data.shape}\")\n",
        "    print(f\"Labels: {labels}\")"
      ]
    },
    {
      "cell_type": "code",
      "execution_count": null,
      "metadata": {
        "id": "9W4NHSptWdZ5"
      },
      "outputs": [],
      "source": [
        "class NeuralNetwork(nn.Module):\n",
        "    def __init__(self):\n",
        "        super().__init__()\n",
        "        self.cnn_stack = nn.Sequential(\n",
        "            nn.Conv1d(129, 200, 3, 2),\n",
        "            nn.LeakyReLU(),\n",
        "            nn.Conv1d(200, 300, 3, 2),\n",
        "            nn.MaxPool2d(2,2),\n",
        "            nn.LeakyReLU(),\n",
        "            nn.ConvTranspose1d(150, 50, 3, 2),\n",
        "            nn.BatchNorm1d(50),\n",
        "            nn.LeakyReLU(),\n",
        "        )\n",
        "        self.flatten = nn.Flatten()\n",
        "        self.linear_relu_stack = nn.Sequential(\n",
        "            nn.Linear(6250, 3000),\n",
        "            nn.ReLU(),\n",
        "            nn.Linear(3000, 512),\n",
        "            nn.ReLU(),\n",
        "            nn.Dropout(0.5),\n",
        "            nn.Linear(512, 4),\n",
        "        )\n",
        "\n",
        "    def forward(self, x):\n",
        "        x = self.cnn_stack(x)\n",
        "        x = self.flatten(x)\n",
        "        logits = self.linear_relu_stack(x)\n",
        "        return logits\n",
        "\n",
        "model = NeuralNetwork().to(device)"
      ]
    },
    {
      "cell_type": "code",
      "execution_count": null,
      "metadata": {
        "id": "j16X7lgxRR9m"
      },
      "outputs": [],
      "source": [
        "learning_rate = 0.001\n",
        "batch_size = 64\n",
        "epochs = 10\n",
        "\n",
        "loss_fn = nn.CrossEntropyLoss()\n",
        "optimizer = torch.optim.Adam(model.parameters(), lr=learning_rate, weight_decay=1e-5)\n",
        "\n",
        "\n",
        "def train_loop(dataloader, model, loss_fn, optimizer):\n",
        "    size = len(dataloader.dataset)\n",
        "    model.train()\n",
        "    for batch, (X, y) in enumerate(dataloader):\n",
        "        pred = model(X)\n",
        "        loss = loss_fn(pred, y)\n",
        "\n",
        "        loss.backward()\n",
        "        optimizer.step()\n",
        "        optimizer.zero_grad()\n",
        "\n",
        "        if batch % 100 == 0:\n",
        "            loss, current = loss.item(), batch * batch_size + len(X)\n",
        "            print(f\"loss: {loss:>7f}  [{current:>5d}/{size:>5d}]\")\n",
        "\n",
        "\n",
        "def test_loop(dataloader, model, loss_fn):\n",
        "    model.eval()\n",
        "    size = len(dataloader.dataset)\n",
        "    num_batches = len(dataloader)\n",
        "    test_loss, correct = 0, 0\n",
        "\n",
        "    with torch.no_grad():\n",
        "        for X, y in dataloader:\n",
        "            pred = model(X)\n",
        "            test_loss += loss_fn(pred, y).item()\n",
        "            correct += (pred.argmax(1) == y).type(torch.float).sum().item()\n",
        "\n",
        "    test_loss /= num_batches\n",
        "    correct /= size\n",
        "    print(f\"Test Error: \\n Accuracy: {(100*correct):>0.1f}%, Avg loss: {test_loss:>8f} \\n\")\n",
        "\n",
        "\n",
        "for t in range(epochs):\n",
        "  print(f\"epoch #{t}\")\n",
        "  train_loop(train_dataloader, model, loss_fn, optimizer)\n",
        "  test_loop(train_dataloader, model, loss_fn)"
      ]
    },
    {
      "cell_type": "code",
      "execution_count": null,
      "metadata": {
        "id": "-hOMOD0REsX3"
      },
      "outputs": [],
      "source": [
        "def HannWindow(M):\n",
        "    return [(math.sin(math.pi * n / (M - 1))) ** 2 for n in range(M)]"
      ]
    },
    {
      "cell_type": "code",
      "execution_count": null,
      "metadata": {
        "id": "-kAhFSEmEqkd"
      },
      "outputs": [],
      "source": [
        "def full_STFT(val_cos, win_length, hop_length, n_fft):\n",
        "    pad_amount = n_fft // 2\n",
        "    val_cos = np.pad(val_cos, (pad_amount, pad_amount), mode=\"reflect\")\n",
        "\n",
        "    num_frames = (len(val_cos) - win_length) // hop_length + 1\n",
        "    stft_matrix = []\n",
        "\n",
        "    window = HannWindow(win_length + 1)[:-1]\n",
        "\n",
        "    for m in range(num_frames):\n",
        "        frame_start = m * hop_length\n",
        "        frame_end = frame_start + win_length\n",
        "\n",
        "        segment = val_cos[frame_start:frame_end]\n",
        "\n",
        "        windowed_segment = segment * window\n",
        "\n",
        "        dft_result = []\n",
        "        for omega in range(n_fft):\n",
        "            angle = -1j * 2 * math.pi * omega * np.arange(win_length) / n_fft\n",
        "            sum_value = np.sum(windowed_segment * np.exp(angle))\n",
        "            dft_result.append(sum_value)\n",
        "\n",
        "        stft_matrix.append(dft_result)\n",
        "\n",
        "    return np.array(stft_matrix)"
      ]
    },
    {
      "cell_type": "code",
      "execution_count": null,
      "metadata": {
        "id": "l6zE74XeehvK"
      },
      "outputs": [],
      "source": [
        "for i in os.listdir(\"/kaggle/input/train-commands/commands/right\"):\n",
        "    rate, data = read(f\"/kaggle/input/train-commands/commands/right/{i}\")\n",
        "    if data.shape[0] != 16000:\n",
        "      continue\n",
        "\n",
        "    audio = torch.stft(\n",
        "            torch.tensor(data, dtype=torch.float32),\n",
        "            n_fft=256,\n",
        "            hop_length=256 // 8,\n",
        "            win_length=256,\n",
        "            window=torch.hann_window(256),\n",
        "            return_complex=True\n",
        "        ).abs() ** 2\n",
        "\n",
        "    if audio.shape[1] != 501:\n",
        "        continue\n",
        "    l = model(audio.unsqueeze_(0).to(device))\n",
        "\n",
        "    pred_probab = nn.Softmax(1)(l)\n",
        "    y_pred = pred_probab.argmax(1)\n",
        "    print(f\"Predicted class: {y_pred}\")"
      ]
    },
    {
      "cell_type": "code",
      "execution_count": null,
      "metadata": {
        "id": "BZH4HpViY6-U"
      },
      "outputs": [],
      "source": [
        "model_scripted = torch.jit.script(model.to(\"cpu\"))\n",
        "model_scripted.save('model_scripted_cpu.pt') # Save"
      ]
    }
  ],
  "metadata": {
    "accelerator": "GPU",
    "colab": {
      "gpuType": "T4",
      "provenance": []
    },
    "kaggle": {
      "accelerator": "none",
      "dataSources": [
        {
          "datasetId": 3818030,
          "sourceId": 6615890,
          "sourceType": "datasetVersion"
        }
      ],
      "isGpuEnabled": false,
      "isInternetEnabled": false,
      "language": "python",
      "sourceType": "notebook"
    },
    "kernelspec": {
      "display_name": "Python 3",
      "name": "python3"
    },
    "language_info": {
      "codemirror_mode": {
        "name": "ipython",
        "version": 3
      },
      "file_extension": ".py",
      "mimetype": "text/x-python",
      "name": "python",
      "nbconvert_exporter": "python",
      "pygments_lexer": "ipython3",
      "version": "3.6.4"
    }
  },
  "nbformat": 4,
  "nbformat_minor": 0
}
